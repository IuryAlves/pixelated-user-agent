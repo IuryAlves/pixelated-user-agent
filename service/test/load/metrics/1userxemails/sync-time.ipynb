{
 "cells": [
  {
   "cell_type": "code",
   "execution_count": 1,
   "metadata": {
    "collapsed": true
   },
   "outputs": [],
   "source": [
    "import matplotlib.pyplot as plt\n",
    "import numpy as np\n",
    "\n",
    "%matplotlib inline\n",
    "plt.style.use('ggplot')\n",
    "\n",
    "import itertools\n",
    "colors = itertools.cycle(('r', 'y', 'b', 'g', 'c'))"
   ]
  },
  {
   "cell_type": "code",
   "execution_count": 2,
   "metadata": {
    "collapsed": true
   },
   "outputs": [],
   "source": [
    "def get_run(users, emails):\n",
    "    filename = '{}user{}emails.txt'.format(users, emails)\n",
    "    run = {}\n",
    "    with open(filename) as f:\n",
    "        for line in f:\n",
    "            key, value = line.split()\n",
    "            value = float(value)\n",
    "            run.setdefault(key, []).append(value)\n",
    "    return run"
   ]
  },
  {
   "cell_type": "code",
   "execution_count": 3,
   "metadata": {
    "collapsed": false
   },
   "outputs": [],
   "source": [
    "metrics = []\n",
    "for users in [1, 5, 10, 25, 50]:\n",
    "    metrics.append((users, get_run(1, users)))"
   ]
  },
  {
   "cell_type": "code",
   "execution_count": 4,
   "metadata": {
    "collapsed": false
   },
   "outputs": [],
   "source": [
    "for key, value in metrics:\n",
    "    value['sync_evolution'] = value['initial-sync'] + value['sync-leap-mail-recurrent']"
   ]
  },
  {
   "cell_type": "code",
   "execution_count": 5,
   "metadata": {
    "collapsed": false
   },
   "outputs": [
    {
     "data": {
      "image/png": "[encoded data removed]",
      "text/plain": [
       "<matplotlib.figure.Figure at 0x10ccd2bd0>"
      ]
     },
     "metadata": {},
     "output_type": "display_data"
    }
   ],
   "source": [
    "plt.figure()\n",
    "plt.ylabel('Seconds')\n",
    "plt.xlabel('Sync times')\n",
    "\n",
    "indices = np.arange(len(metrics[0][1]['sync_evolution']))\n",
    "width = 1\n",
    "\n",
    "for key, value in metrics:\n",
    "    plt.bar(indices, value['sync_evolution'], width=width, label=key, color=colors.next())\n",
    "    \n",
    "    for idx, elem in enumerate(value['sync_evolution']):\n",
    "        plt.annotate(\"{0:.0f}\".format(elem), (indices[idx], elem + 10))\n",
    "        \n",
    "    indices = indices + len(indices) + width\n",
    "\n",
    "plt.xticks((2, 7, 12, 17, 22), ('1 email', '5 emails', '10 emails', '25 emails', '50 emails'))\n",
    "plt.legend(title='# Emails', bbox_to_anchor=(1.05, 1), loc='best', borderaxespad=0.)\n",
    "plt.savefig('sync-times.png', bbox_inches='tight', dpi=200)"
   ]
  }
 ],
 "metadata": {
  "kernelspec": {
   "display_name": "Python [Root]",
   "language": "python",
   "name": "Python [Root]"
  },
  "language_info": {
   "codemirror_mode": {
    "name": "ipython",
    "version": 2
   },
   "file_extension": ".py",
   "mimetype": "text/x-python",
   "name": "python",
   "nbconvert_exporter": "python",
   "pygments_lexer": "ipython2",
   "version": "2.7.12"
  }
 },
 "nbformat": 4,
 "nbformat_minor": 0
}
